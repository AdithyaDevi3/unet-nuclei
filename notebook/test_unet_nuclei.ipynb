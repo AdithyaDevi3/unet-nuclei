{
 "cells": [
  {
   "cell_type": "code",
   "execution_count": null,
   "metadata": {},
   "outputs": [],
   "source": [
    "import numpy as np\n",
    "import matplotlib.pyplot as plt\n",
    "from skimage.io import imread\n",
    "import os\n",
    "%matplotlib inline"
   ]
  },
  {
   "cell_type": "markdown",
   "metadata": {},
   "source": [
    "## Select your Keras backend by uncommenting the correct line"
   ]
  },
  {
   "cell_type": "code",
   "execution_count": null,
   "metadata": {},
   "outputs": [],
   "source": [
    "os.environ[\"KERAS_BACKEND\"] =  \"plaidml.keras.backend\"\n",
    "#os.environ[\"KERAS_BACKEND\"] =  \"tensorflow\"\n",
    "#os.environ[\"KERAS_BACKEND\"] =  \"cntk\"\n",
    "from unet_nuclei import *"
   ]
  },
  {
   "cell_type": "code",
   "execution_count": null,
   "metadata": {},
   "outputs": [],
   "source": [
    "folder = \"testimages\"\n",
    "files = os.listdir(folder)"
   ]
  },
  {
   "cell_type": "code",
   "execution_count": null,
   "metadata": {},
   "outputs": [],
   "source": [
    "files = [os.path.join(folder,f) for f in files]\n",
    "files"
   ]
  },
  {
   "cell_type": "markdown",
   "metadata": {},
   "source": [
    "Initialize the model. Note that we set `automated_shape_adjustment=True`, which initializes the model with the closest compatible shape to the desired input shape. "
   ]
  },
  {
   "cell_type": "code",
   "execution_count": null,
   "metadata": {},
   "outputs": [],
   "source": [
    "model = unet_initialize((1024,1024), automated_shape_adjustment=True)\n",
    "\n",
    "# if you are trying this without GPU (e.g. with a tensorflow build for CPU)\n",
    "# set this to a smaller size\n",
    "# model = unet_initialize((128,128), automated_shape_adjustment=True)"
   ]
  },
  {
   "cell_type": "markdown",
   "metadata": {},
   "source": [
    "Check which size was actually chosen:"
   ]
  },
  {
   "cell_type": "code",
   "execution_count": null,
   "metadata": {},
   "outputs": [],
   "source": [
    "# model shape\n",
    "model.input_shape"
   ]
  },
  {
   "cell_type": "markdown",
   "metadata": {},
   "source": [
    "Define a function to process an image. Beware of the hard coded crop on loading ... Again this is simply to demonstrate the automated rescaling of the image to the model and of the classification result to the image shape."
   ]
  },
  {
   "cell_type": "code",
   "execution_count": null,
   "metadata": {},
   "outputs": [],
   "source": [
    "def process_img(im):\n",
    "    im = imread(im)[:1024,:1024]\n",
    "    plt.imshow(im)\n",
    "    plt.show()\n",
    "    prediction = unet_classify(model, im)\n",
    "    plt.imshow(prediction)\n",
    "    plt.show()"
   ]
  },
  {
   "cell_type": "code",
   "execution_count": null,
   "metadata": {
    "scrolled": false
   },
   "outputs": [],
   "source": [
    "# note that the first file takes longer\n",
    "for f in files:\n",
    "    print(f)\n",
    "    process_img(f)"
   ]
  },
  {
   "cell_type": "markdown",
   "metadata": {},
   "source": [
    "### Resulting probability map\n",
    "3-channel image, red channel is background class, blue channel is nuclear boundary mask and green channel is nuclei mask\n"
   ]
  }
 ],
 "metadata": {
  "kernelspec": {
   "display_name": "Python 3",
   "language": "python",
   "name": "python3"
  },
  "language_info": {
   "codemirror_mode": {
    "name": "ipython",
    "version": 3
   },
   "file_extension": ".py",
   "mimetype": "text/x-python",
   "name": "python",
   "nbconvert_exporter": "python",
   "pygments_lexer": "ipython3",
   "version": "3.6.8"
  }
 },
 "nbformat": 4,
 "nbformat_minor": 2
}
